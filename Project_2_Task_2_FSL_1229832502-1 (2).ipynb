{
  "nbformat": 4,
  "nbformat_minor": 0,
  "metadata": {
    "colab": {
      "provenance": []
    },
    "kernelspec": {
      "name": "python3",
      "display_name": "Python 3"
    },
    "language_info": {
      "name": "python"
    }
  },
  "cells": [
    {
      "cell_type": "code",
      "execution_count": 1,
      "metadata": {
        "colab": {
          "base_uri": "https://localhost:8080/"
        },
        "id": "KNQESKCcIRJL",
        "outputId": "2c281ef7-c1bd-4816-a1ff-0e300a8c7d62"
      },
      "outputs": [
        {
          "output_type": "stream",
          "name": "stdout",
          "text": [
            "Downloading data from https://storage.googleapis.com/tensorflow/tf-keras-datasets/mnist.npz\n",
            "11490434/11490434 [==============================] - 0s 0us/step\n",
            "Epoch 1/5\n",
            "844/844 [==============================] - 96s 112ms/step - loss: 0.1288 - accuracy: 0.9599 - val_loss: 0.0579 - val_accuracy: 0.9848\n",
            "Epoch 2/5\n",
            "844/844 [==============================] - 93s 110ms/step - loss: 0.0432 - accuracy: 0.9865 - val_loss: 0.0397 - val_accuracy: 0.9882\n",
            "Epoch 3/5\n",
            "844/844 [==============================] - 90s 107ms/step - loss: 0.0262 - accuracy: 0.9917 - val_loss: 0.0473 - val_accuracy: 0.9860\n",
            "Epoch 4/5\n",
            "844/844 [==============================] - 93s 110ms/step - loss: 0.0191 - accuracy: 0.9938 - val_loss: 0.0334 - val_accuracy: 0.9900\n",
            "Epoch 5/5\n",
            "844/844 [==============================] - 92s 109ms/step - loss: 0.0145 - accuracy: 0.9952 - val_loss: 0.0398 - val_accuracy: 0.9908\n",
            "313/313 [==============================] - 4s 12ms/step - loss: 0.0348 - accuracy: 0.9906\n",
            "Original Model Test Accuracy: 0.9905999898910522\n",
            "Epoch 1/5\n",
            "844/844 [==============================] - 92s 108ms/step - loss: 0.1368 - accuracy: 0.9583 - val_loss: 0.0492 - val_accuracy: 0.9857\n",
            "Epoch 2/5\n",
            "844/844 [==============================] - 93s 110ms/step - loss: 0.0431 - accuracy: 0.9869 - val_loss: 0.0390 - val_accuracy: 0.9882\n",
            "Epoch 3/5\n",
            "844/844 [==============================] - 89s 106ms/step - loss: 0.0283 - accuracy: 0.9908 - val_loss: 0.0406 - val_accuracy: 0.9900\n",
            "Epoch 4/5\n",
            "844/844 [==============================] - 89s 106ms/step - loss: 0.0211 - accuracy: 0.9931 - val_loss: 0.0366 - val_accuracy: 0.9893\n",
            "Epoch 5/5\n",
            "844/844 [==============================] - 88s 105ms/step - loss: 0.0150 - accuracy: 0.9951 - val_loss: 0.0426 - val_accuracy: 0.9912\n",
            "313/313 [==============================] - 4s 12ms/step - loss: 0.0346 - accuracy: 0.9894\n",
            "Model Test Accuracy: 0.9894000291824341\n",
            "Epoch 1/5\n",
            "844/844 [==============================] - 261s 309ms/step - loss: 0.3504 - accuracy: 0.9068 - val_loss: 0.2849 - val_accuracy: 0.9192\n",
            "Epoch 2/5\n",
            "844/844 [==============================] - 256s 304ms/step - loss: 0.1654 - accuracy: 0.9520 - val_loss: 0.1268 - val_accuracy: 0.9660\n",
            "Epoch 3/5\n",
            "844/844 [==============================] - 259s 307ms/step - loss: 0.1417 - accuracy: 0.9586 - val_loss: 0.1371 - val_accuracy: 0.9635\n",
            "Epoch 4/5\n",
            "844/844 [==============================] - 267s 316ms/step - loss: 0.1387 - accuracy: 0.9591 - val_loss: 0.1456 - val_accuracy: 0.9610\n",
            "Epoch 5/5\n",
            "844/844 [==============================] - 256s 303ms/step - loss: 0.1293 - accuracy: 0.9638 - val_loss: 0.1250 - val_accuracy: 0.9695\n",
            "313/313 [==============================] - 12s 38ms/step - loss: 0.1308 - accuracy: 0.9632\n",
            "Model Test Accuracy: 0.9631999731063843\n",
            "Epoch 1/5\n",
            "844/844 [==============================] - 48s 56ms/step - loss: 0.5250 - accuracy: 0.8484 - val_loss: 0.1627 - val_accuracy: 0.9572\n",
            "Epoch 2/5\n",
            "844/844 [==============================] - 49s 58ms/step - loss: 0.1616 - accuracy: 0.9542 - val_loss: 0.1018 - val_accuracy: 0.9735\n",
            "Epoch 3/5\n",
            "844/844 [==============================] - 47s 56ms/step - loss: 0.1069 - accuracy: 0.9689 - val_loss: 0.0728 - val_accuracy: 0.9797\n",
            "Epoch 4/5\n",
            "844/844 [==============================] - 47s 56ms/step - loss: 0.0793 - accuracy: 0.9773 - val_loss: 0.0583 - val_accuracy: 0.9840\n",
            "Epoch 5/5\n",
            "844/844 [==============================] - 47s 56ms/step - loss: 0.0646 - accuracy: 0.9811 - val_loss: 0.0496 - val_accuracy: 0.9863\n",
            "313/313 [==============================] - 2s 8ms/step - loss: 0.0582 - accuracy: 0.9820\n",
            "Model Test Accuracy: 0.9819999933242798\n",
            "Epoch 1/5\n",
            "844/844 [==============================] - 230s 270ms/step - loss: 0.1168 - accuracy: 0.9643 - val_loss: 0.0391 - val_accuracy: 0.9887\n",
            "Epoch 2/5\n",
            "844/844 [==============================] - 226s 267ms/step - loss: 0.0392 - accuracy: 0.9882 - val_loss: 0.0392 - val_accuracy: 0.9912\n",
            "Epoch 3/5\n",
            "844/844 [==============================] - 230s 273ms/step - loss: 0.0284 - accuracy: 0.9910 - val_loss: 0.0442 - val_accuracy: 0.9868\n",
            "Epoch 4/5\n",
            "844/844 [==============================] - 224s 266ms/step - loss: 0.0206 - accuracy: 0.9933 - val_loss: 0.0375 - val_accuracy: 0.9908\n",
            "Epoch 5/5\n",
            "844/844 [==============================] - 226s 268ms/step - loss: 0.0173 - accuracy: 0.9942 - val_loss: 0.0265 - val_accuracy: 0.9930\n",
            "313/313 [==============================] - 11s 35ms/step - loss: 0.0263 - accuracy: 0.9930\n",
            "Model Test Accuracy: 0.9929999709129333\n",
            "Epoch 1/5\n",
            "844/844 [==============================] - 123s 145ms/step - loss: 0.2478 - accuracy: 0.9321 - val_loss: 0.0746 - val_accuracy: 0.9798\n",
            "Epoch 2/5\n",
            "844/844 [==============================] - 120s 142ms/step - loss: 0.0737 - accuracy: 0.9779 - val_loss: 0.0589 - val_accuracy: 0.9835\n",
            "Epoch 3/5\n",
            "844/844 [==============================] - 118s 139ms/step - loss: 0.0498 - accuracy: 0.9854 - val_loss: 0.0465 - val_accuracy: 0.9868\n",
            "Epoch 4/5\n",
            "844/844 [==============================] - 118s 139ms/step - loss: 0.0392 - accuracy: 0.9880 - val_loss: 0.0450 - val_accuracy: 0.9873\n",
            "Epoch 5/5\n",
            "844/844 [==============================] - 118s 140ms/step - loss: 0.0307 - accuracy: 0.9907 - val_loss: 0.0437 - val_accuracy: 0.9880\n",
            "313/313 [==============================] - 5s 16ms/step - loss: 0.0368 - accuracy: 0.9872\n",
            "Model Test Accuracy: 0.9872000217437744\n"
          ]
        }
      ],
      "source": [
        "import tensorflow as tf\n",
        "from tensorflow.keras import layers, models\n",
        "from tensorflow.keras.datasets import mnist\n",
        "from tensorflow.keras.utils import to_categorical\n",
        "from tensorflow.keras.optimizers import Adam\n",
        "\n",
        "\n",
        "(train_images, train_labels), (test_images, test_labels) = mnist.load_data()\n",
        "\n",
        "\n",
        "train_images = train_images.reshape((60000, 28, 28, 1)).astype('float32') / 255\n",
        "test_images = test_images.reshape((10000, 28, 28, 1)).astype('float32') / 255\n",
        "\n",
        "train_labels = to_categorical(train_labels)\n",
        "test_labels = to_categorical(test_labels)\n",
        "\n",
        "\n",
        "model = models.Sequential()\n",
        "model.add(layers.Conv2D(16, (3, 3), activation='relu', input_shape=(28, 28, 1)))\n",
        "model.add(layers.MaxPooling2D((2, 2), strides=1))\n",
        "model.add(layers.Conv2D(32, (3, 3), activation='relu'))\n",
        "model.add(layers.MaxPooling2D((2, 2), strides=1))\n",
        "model.add(layers.Flatten())\n",
        "model.add(layers.Dense(128, activation='relu'))\n",
        "model.add(layers.Dense(64, activation='relu'))\n",
        "model.add(layers.Dense(10, activation='softmax'))\n",
        "\n",
        "\n",
        "model.compile(optimizer='adam', loss='categorical_crossentropy', metrics=['accuracy'])\n",
        "model.fit(train_images, train_labels, epochs=5, batch_size=64, validation_split=0.1)\n",
        "\n",
        "test_loss, test_acc = model.evaluate(test_images, test_labels)\n",
        "print(f'Original Model Test Accuracy: {test_acc}')\n",
        "\n",
        "def create_and_train_model(kernel_size, conv1_filters, conv2_filters, dense1_units, dense2_units, learning_rate):\n",
        "    model = models.Sequential()\n",
        "    model.add(layers.Conv2D(conv1_filters, kernel_size, activation='relu', input_shape=(28, 28, 1)))\n",
        "    model.add(layers.MaxPooling2D((2, 2), strides=1))\n",
        "    model.add(layers.Conv2D(conv2_filters, kernel_size, activation='relu'))\n",
        "    model.add(layers.MaxPooling2D((2, 2), strides=1))\n",
        "    model.add(layers.Flatten())\n",
        "    model.add(layers.Dense(dense1_units, activation='relu'))\n",
        "    model.add(layers.Dense(dense2_units, activation='relu'))\n",
        "    model.add(layers.Dense(10, activation='softmax'))\n",
        "\n",
        "    optimizer = Adam(learning_rate=learning_rate)\n",
        "    model.compile(optimizer=optimizer, loss='categorical_crossentropy', metrics=['accuracy'])\n",
        "\n",
        "    model.fit(train_images, train_labels, epochs=5, batch_size=64, validation_split=0.1)\n",
        "\n",
        "    test_loss, test_acc = model.evaluate(test_images, test_labels)\n",
        "    print(f'Model Test Accuracy: {test_acc}')\n",
        "\n",
        "create_and_train_model((3, 3), 16, 32, 128, 64, 0.001)\n",
        "create_and_train_model((5, 5), 32, 64, 256, 128, 0.01)\n",
        "create_and_train_model((3, 3), 8, 16, 64, 32, 0.0001)\n",
        "create_and_train_model((5, 5), 32, 64, 128, 64, 0.001)\n",
        "create_and_train_model((3, 3), 16, 32, 256, 128, 0.0001)\n"
      ]
    },
    {
      "cell_type": "code",
      "source": [
        "# Example with reduced complexity\n",
        "create_and_train_model((3, 3), 8, 16, 8, 32, 0.1)"
      ],
      "metadata": {
        "colab": {
          "base_uri": "https://localhost:8080/"
        },
        "id": "1vXMcNknIUZl",
        "outputId": "121314ce-1f5a-4f55-8109-d9b964ed9df5"
      },
      "execution_count": 3,
      "outputs": [
        {
          "output_type": "stream",
          "name": "stdout",
          "text": [
            "Epoch 1/5\n",
            "844/844 [==============================] - 38s 44ms/step - loss: 2.6379 - accuracy: 0.1031 - val_loss: 2.3088 - val_accuracy: 0.1050\n",
            "Epoch 2/5\n",
            "844/844 [==============================] - 39s 47ms/step - loss: 2.3104 - accuracy: 0.1076 - val_loss: 2.3082 - val_accuracy: 0.1000\n",
            "Epoch 3/5\n",
            "844/844 [==============================] - 39s 46ms/step - loss: 2.3094 - accuracy: 0.1052 - val_loss: 2.3151 - val_accuracy: 0.1000\n",
            "Epoch 4/5\n",
            "844/844 [==============================] - 38s 45ms/step - loss: 2.3104 - accuracy: 0.1036 - val_loss: 2.3144 - val_accuracy: 0.0952\n",
            "Epoch 5/5\n",
            "844/844 [==============================] - 39s 46ms/step - loss: 2.3097 - accuracy: 0.1038 - val_loss: 2.3140 - val_accuracy: 0.0960\n",
            "313/313 [==============================] - 2s 7ms/step - loss: 2.3126 - accuracy: 0.1009\n",
            "Model Test Accuracy: 0.10090000182390213\n"
          ]
        }
      ]
    },
    {
      "cell_type": "code",
      "source": [
        "# Example with reduced complexity\n",
        "create_and_train_model((3, 3), 8, 16, 16, 32, 0.001)"
      ],
      "metadata": {
        "colab": {
          "base_uri": "https://localhost:8080/"
        },
        "id": "SKJS35N7ZeOz",
        "outputId": "40b5b776-7844-42f4-dcac-4c4ba7ba39ba"
      },
      "execution_count": 6,
      "outputs": [
        {
          "output_type": "stream",
          "name": "stdout",
          "text": [
            "Epoch 1/5\n",
            "844/844 [==============================] - 44s 51ms/step - loss: 0.2583 - accuracy: 0.9189 - val_loss: 0.0844 - val_accuracy: 0.9770\n",
            "Epoch 2/5\n",
            "844/844 [==============================] - 42s 50ms/step - loss: 0.0730 - accuracy: 0.9777 - val_loss: 0.0551 - val_accuracy: 0.9848\n",
            "Epoch 3/5\n",
            "844/844 [==============================] - 42s 50ms/step - loss: 0.0546 - accuracy: 0.9832 - val_loss: 0.0601 - val_accuracy: 0.9838\n",
            "Epoch 4/5\n",
            "844/844 [==============================] - 41s 48ms/step - loss: 0.0462 - accuracy: 0.9853 - val_loss: 0.0497 - val_accuracy: 0.9872\n",
            "Epoch 5/5\n",
            "844/844 [==============================] - 42s 50ms/step - loss: 0.0378 - accuracy: 0.9878 - val_loss: 0.0534 - val_accuracy: 0.9872\n",
            "313/313 [==============================] - 3s 11ms/step - loss: 0.0408 - accuracy: 0.9866\n",
            "Model Test Accuracy: 0.9865999817848206\n"
          ]
        }
      ]
    },
    {
      "cell_type": "code",
      "source": [],
      "metadata": {
        "id": "YO_xnFO0aeGv"
      },
      "execution_count": null,
      "outputs": []
    }
  ]
}